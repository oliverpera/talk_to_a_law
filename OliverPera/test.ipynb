{
 "cells": [
  {
   "cell_type": "code",
   "execution_count": 4,
   "metadata": {},
   "outputs": [
    {
     "ename": "RuntimeError",
     "evalue": "Chroma is running in http-only client mode, and can only be run with 'chromadb.api.fastapi.FastAPI' as the chroma_api_impl.             see https://docs.trychroma.com/usage-guide?lang=py#using-the-python-http-only-client for more information.",
     "output_type": "error",
     "traceback": [
      "\u001b[0;31m---------------------------------------------------------------------------\u001b[0m",
      "\u001b[0;31mRuntimeError\u001b[0m                              Traceback (most recent call last)",
      "\u001b[1;32m/Users/oliverpera/Desktop/Studium DHBW/Content/5. Semester/Projekt/talk_to_a_law/OliverPera/test.ipynb Zelle 1\u001b[0m line \u001b[0;36m<module>\u001b[0;34m\u001b[0m\n\u001b[1;32m      <a href='vscode-notebook-cell:/Users/oliverpera/Desktop/Studium%20DHBW/Content/5.%20Semester/Projekt/talk_to_a_law/OliverPera/test.ipynb#W0sZmlsZQ%3D%3D?line=0'>1</a>\u001b[0m \u001b[39mimport\u001b[39;00m \u001b[39mchromadb\u001b[39;00m\n\u001b[0;32m----> <a href='vscode-notebook-cell:/Users/oliverpera/Desktop/Studium%20DHBW/Content/5.%20Semester/Projekt/talk_to_a_law/OliverPera/test.ipynb#W0sZmlsZQ%3D%3D?line=1'>2</a>\u001b[0m chroma_client \u001b[39m=\u001b[39m chromadb\u001b[39m.\u001b[39;49mPersistentClient(path\u001b[39m=\u001b[39;49m\u001b[39m\"\u001b[39;49m\u001b[39mmy_vectordb\u001b[39;49m\u001b[39m\"\u001b[39;49m)\n",
      "File \u001b[0;32m/Library/Frameworks/Python.framework/Versions/3.10/lib/python3.10/site-packages/chromadb/__init__.py:137\u001b[0m, in \u001b[0;36mPersistentClient\u001b[0;34m(path, settings, tenant, database)\u001b[0m\n\u001b[1;32m    134\u001b[0m settings\u001b[39m.\u001b[39mpersist_directory \u001b[39m=\u001b[39m path\n\u001b[1;32m    135\u001b[0m settings\u001b[39m.\u001b[39mis_persistent \u001b[39m=\u001b[39m \u001b[39mTrue\u001b[39;00m\n\u001b[0;32m--> 137\u001b[0m \u001b[39mreturn\u001b[39;00m ClientCreator(tenant\u001b[39m=\u001b[39;49mtenant, database\u001b[39m=\u001b[39;49mdatabase, settings\u001b[39m=\u001b[39;49msettings)\n",
      "File \u001b[0;32m/Library/Frameworks/Python.framework/Versions/3.10/lib/python3.10/site-packages/chromadb/api/client.py:133\u001b[0m, in \u001b[0;36mClient.__init__\u001b[0;34m(self, tenant, database, settings)\u001b[0m\n\u001b[1;32m    127\u001b[0m \u001b[39mdef\u001b[39;00m \u001b[39m__init__\u001b[39m(\n\u001b[1;32m    128\u001b[0m     \u001b[39mself\u001b[39m,\n\u001b[1;32m    129\u001b[0m     tenant: \u001b[39mstr\u001b[39m \u001b[39m=\u001b[39m DEFAULT_TENANT,\n\u001b[1;32m    130\u001b[0m     database: \u001b[39mstr\u001b[39m \u001b[39m=\u001b[39m DEFAULT_DATABASE,\n\u001b[1;32m    131\u001b[0m     settings: Settings \u001b[39m=\u001b[39m Settings(),\n\u001b[1;32m    132\u001b[0m ) \u001b[39m-\u001b[39m\u001b[39m>\u001b[39m \u001b[39mNone\u001b[39;00m:\n\u001b[0;32m--> 133\u001b[0m     \u001b[39msuper\u001b[39;49m()\u001b[39m.\u001b[39;49m\u001b[39m__init__\u001b[39;49m(settings\u001b[39m=\u001b[39;49msettings)\n\u001b[1;32m    134\u001b[0m     \u001b[39mself\u001b[39m\u001b[39m.\u001b[39mtenant \u001b[39m=\u001b[39m tenant\n\u001b[1;32m    135\u001b[0m     \u001b[39mself\u001b[39m\u001b[39m.\u001b[39mdatabase \u001b[39m=\u001b[39m database\n",
      "File \u001b[0;32m/Library/Frameworks/Python.framework/Versions/3.10/lib/python3.10/site-packages/chromadb/api/client.py:36\u001b[0m, in \u001b[0;36mSharedSystemClient.__init__\u001b[0;34m(self, settings)\u001b[0m\n\u001b[1;32m     31\u001b[0m \u001b[39mdef\u001b[39;00m \u001b[39m__init__\u001b[39m(\n\u001b[1;32m     32\u001b[0m     \u001b[39mself\u001b[39m,\n\u001b[1;32m     33\u001b[0m     settings: Settings \u001b[39m=\u001b[39m Settings(),\n\u001b[1;32m     34\u001b[0m ) \u001b[39m-\u001b[39m\u001b[39m>\u001b[39m \u001b[39mNone\u001b[39;00m:\n\u001b[1;32m     35\u001b[0m     \u001b[39mself\u001b[39m\u001b[39m.\u001b[39m_identifier \u001b[39m=\u001b[39m SharedSystemClient\u001b[39m.\u001b[39m_get_identifier_from_settings(settings)\n\u001b[0;32m---> 36\u001b[0m     SharedSystemClient\u001b[39m.\u001b[39;49m_create_system_if_not_exists(\u001b[39mself\u001b[39;49m\u001b[39m.\u001b[39;49m_identifier, settings)\n",
      "File \u001b[0;32m/Library/Frameworks/Python.framework/Versions/3.10/lib/python3.10/site-packages/chromadb/api/client.py:43\u001b[0m, in \u001b[0;36mSharedSystemClient._create_system_if_not_exists\u001b[0;34m(cls, identifier, settings)\u001b[0m\n\u001b[1;32m     38\u001b[0m \u001b[39m@classmethod\u001b[39m\n\u001b[1;32m     39\u001b[0m \u001b[39mdef\u001b[39;00m \u001b[39m_create_system_if_not_exists\u001b[39m(\n\u001b[1;32m     40\u001b[0m     \u001b[39mcls\u001b[39m, identifier: \u001b[39mstr\u001b[39m, settings: Settings\n\u001b[1;32m     41\u001b[0m ) \u001b[39m-\u001b[39m\u001b[39m>\u001b[39m System:\n\u001b[1;32m     42\u001b[0m     \u001b[39mif\u001b[39;00m identifier \u001b[39mnot\u001b[39;00m \u001b[39min\u001b[39;00m \u001b[39mcls\u001b[39m\u001b[39m.\u001b[39m_identifer_to_system:\n\u001b[0;32m---> 43\u001b[0m         new_system \u001b[39m=\u001b[39m System(settings)\n\u001b[1;32m     44\u001b[0m         \u001b[39mcls\u001b[39m\u001b[39m.\u001b[39m_identifer_to_system[identifier] \u001b[39m=\u001b[39m new_system\n\u001b[1;32m     46\u001b[0m         new_system\u001b[39m.\u001b[39minstance(ProductTelemetryClient)\n",
      "File \u001b[0;32m/Library/Frameworks/Python.framework/Versions/3.10/lib/python3.10/site-packages/chromadb/config.py:261\u001b[0m, in \u001b[0;36mSystem.__init__\u001b[0;34m(self, settings)\u001b[0m\n\u001b[1;32m    258\u001b[0m \u001b[39mif\u001b[39;00m is_thin_client:\n\u001b[1;32m    259\u001b[0m     \u001b[39m# The thin client is a system with only the API component\u001b[39;00m\n\u001b[1;32m    260\u001b[0m     \u001b[39mif\u001b[39;00m settings[\u001b[39m\"\u001b[39m\u001b[39mchroma_api_impl\u001b[39m\u001b[39m\"\u001b[39m] \u001b[39m!=\u001b[39m \u001b[39m\"\u001b[39m\u001b[39mchromadb.api.fastapi.FastAPI\u001b[39m\u001b[39m\"\u001b[39m:\n\u001b[0;32m--> 261\u001b[0m         \u001b[39mraise\u001b[39;00m \u001b[39mRuntimeError\u001b[39;00m(\n\u001b[1;32m    262\u001b[0m             \u001b[39m\"\u001b[39m\u001b[39mChroma is running in http-only client mode, and can only be run with \u001b[39m\u001b[39m'\u001b[39m\u001b[39mchromadb.api.fastapi.FastAPI\u001b[39m\u001b[39m'\u001b[39m\u001b[39m as the chroma_api_impl. \u001b[39m\u001b[39m\\\u001b[39;00m\n\u001b[1;32m    263\u001b[0m \u001b[39m    see https://docs.trychroma.com/usage-guide?lang=py#using-the-python-http-only-client for more information.\u001b[39m\u001b[39m\"\u001b[39m\n\u001b[1;32m    264\u001b[0m         )\n\u001b[1;32m    265\u001b[0m \u001b[39m# Validate settings don't contain any legacy config values\u001b[39;00m\n\u001b[1;32m    266\u001b[0m \u001b[39mfor\u001b[39;00m key \u001b[39min\u001b[39;00m _legacy_config_keys:\n",
      "\u001b[0;31mRuntimeError\u001b[0m: Chroma is running in http-only client mode, and can only be run with 'chromadb.api.fastapi.FastAPI' as the chroma_api_impl.             see https://docs.trychroma.com/usage-guide?lang=py#using-the-python-http-only-client for more information."
     ]
    }
   ],
   "source": [
    "import chromadb\n",
    "chroma_client = chromadb.PersistentClient(path=\"my_vectordb\")\n"
   ]
  }
 ],
 "metadata": {
  "kernelspec": {
   "display_name": "Python 3",
   "language": "python",
   "name": "python3"
  },
  "language_info": {
   "codemirror_mode": {
    "name": "ipython",
    "version": 3
   },
   "file_extension": ".py",
   "mimetype": "text/x-python",
   "name": "python",
   "nbconvert_exporter": "python",
   "pygments_lexer": "ipython3",
   "version": "3.10.2"
  }
 },
 "nbformat": 4,
 "nbformat_minor": 2
}
