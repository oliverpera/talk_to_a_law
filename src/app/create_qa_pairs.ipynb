{
 "cells": [
  {
   "cell_type": "code",
   "execution_count": 214,
   "metadata": {},
   "outputs": [],
   "source": [
    "# tuning params\n",
    "    # splitting strategy --> in splits_create.ipynb\n",
    "    # embedding function / model --> in vector_db_create.ipynb in create_collection function\n",
    "    # text generation moel --> in this script\n",
    "    # prompt template --> in this script\n",
    "    # (temperature --> in this script)\n",
    "\n",
    "from replicate import Client\n",
    "from langchain.prompts import PromptTemplate\n",
    "import os\n",
    "import pandas as pd\n",
    "from tqdm import tqdm"
   ]
  },
  {
   "cell_type": "code",
   "execution_count": 222,
   "metadata": {},
   "outputs": [],
   "source": [
    "SPLITS_PATH = \"../resources/splits/\"\n",
    "def do_q_call(passage: str):\n",
    "    template = \"\"\"\n",
    "        Erstelle genau eine (1) in der deutschen Sprache formulierte Frage zu folgendem Kontext.\n",
    "        Achte hierbei auf fachliche Korrektheit und Vollständigkeit:\n",
    "        \n",
    "        ---\n",
    "        {context}\n",
    "        ---\n",
    "        \n",
    "        Gebe ausschließlich die Frage an! Ohne weiteren Text!\n",
    "        \"\"\"\n",
    "    prompt_template = PromptTemplate(\n",
    "            input_variables=[\"context\"],\n",
    "            template=template,\n",
    "    )\n",
    "    prompt = prompt_template.format(context=passage)\n",
    "    replicateSession = Client(api_token=\"r8_c7xatuN0lmkBFqlgCXvas56nRkRWBeS1aXtWL\")\n",
    "    input = {\n",
    "        \"system_prompt\": \"Du bist ein deutschsprachiger, hilfreicher Assisten für das deutsche Bankenrecht. Beantworte die Anfrage des Nutzers in deutsch.\",\n",
    "        \"prompt\": prompt,\n",
    "        # \"min_new_tokens\": 0,\n",
    "        \"max_new_tokens\": 1024,\n",
    "        # \"temperature\": 0.7,\n",
    "    }\n",
    "    iterator = replicateSession.run(\n",
    "        \"meta/meta-llama-3-70b-instruct\", # \"meta/llama-2-70b-chat\", # \"meta/meta-llama-3-8b\",  # \"mistralai/mixtral-8x7b-instruct-v0.1\",\n",
    "        input=input,\n",
    "    )\n",
    "    q = \"\"\n",
    "    for text in iterator:\n",
    "        q += text\n",
    "    return q\n",
    "\n",
    "def do_a_call(question: str, passage: str):\n",
    "    template = \"\"\"\n",
    "        Beantworte folgende Frage in der deutschen Sprache.\n",
    "\n",
    "        ---\n",
    "        {question}\n",
    "        ---\n",
    "\n",
    "        Nutze für die Beantwortung der Frage folgenden Kontext:\n",
    "\n",
    "        ---\n",
    "        {context}\n",
    "        ---\n",
    "        \n",
    "        Gebe ausschließlich die Antwort als Fließtext, ohne weitere Bemerkungen an!\n",
    "        \"\"\"\n",
    "    prompt_template = PromptTemplate(\n",
    "            input_variables=[\"question\", \"context\"],\n",
    "            template=template,\n",
    "    )\n",
    "    prompt = prompt_template.format(question=question, context=passage)\n",
    "    replicateSession = Client(api_token=\"r8_c7xatuN0lmkBFqlgCXvas56nRkRWBeS1aXtWL\")\n",
    "    input = {\n",
    "        \"system_prompt\": \"Du bist ein deutschsprachiger Assisten für das deutsche Bankenrecht. Beantworte die Anfrage des Nutzers in deutsch.\",\n",
    "        \"prompt\": prompt,\n",
    "        # \"min_new_tokens\": 0,\n",
    "        \"max_new_tokens\": 1024,\n",
    "        # \"temperature\": 0.7, # default\n",
    "    }\n",
    "    iterator = replicateSession.run(\n",
    "        \"meta/meta-llama-3-70b-instruct\", # \"meta/llama-2-70b-chat\", # \"meta/meta-llama-3-8b\",  # \"mistralai/mixtral-8x7b-instruct-v0.1\",\n",
    "        input=input,\n",
    "    )\n",
    "    a = \"\"\n",
    "    for text in iterator:\n",
    "        a += text\n",
    "    return a"
   ]
  },
  {
   "cell_type": "code",
   "execution_count": 223,
   "metadata": {},
   "outputs": [],
   "source": [
    "def create_qa_pairs(split_folder: str):\n",
    "    file_names = os.listdir(SPLITS_PATH + split_folder)\n",
    "    with open(\"../resources/TestFragen/log.txt\", \"w\", encoding='utf-8') as f:\n",
    "        for file in file_names:\n",
    "            print(\"creating q_and_a for file \" + file)\n",
    "            qa_df = pd.DataFrame(columns=[\"question\", \"answer\"])\n",
    "            file_path = SPLITS_PATH + split_folder + file\n",
    "            df = pd.read_json(file_path)\n",
    "\n",
    "            documents_ = df['splits'].to_list()\n",
    "            if len(documents_) == 0:\n",
    "                print(\"No splits in file \" + file_path + \". Skipping file.\")\n",
    "                break\n",
    "\n",
    "            for split in tqdm(documents_):\n",
    "                question = do_q_call(split)\n",
    "                answer = do_a_call(question, split)\n",
    "                \n",
    "                f.write(\"-------------------\\n\")\n",
    "                f.write(question + \"\\n\")\n",
    "                f. write(\"---\\n\")\n",
    "                f.write(answer + \"\\n\")\n",
    "                f.write(\"-------------------\\n\\n\")\n",
    "\n",
    "                data = [{\"file\": file, \"question\": question, \"answer\": answer}] # list because of better pd.df \n",
    "                df = pd.DataFrame(data)\n",
    "                qa_df = pd.concat([qa_df, df], ignore_index=True)\n",
    "                \n",
    "            qa_df.to_json(\"../resources/TestFragen/\" + file)\n",
    "            print(\"Done creating qa pairs for file \" + file + \". Written to json file.\")\n"
   ]
  },
  {
   "cell_type": "code",
   "execution_count": 224,
   "metadata": {},
   "outputs": [
    {
     "name": "stdout",
     "output_type": "stream",
     "text": [
      "creating q_and_a for file CELEX_02013L0036-20220101_DE_TXT.json\n"
     ]
    },
    {
     "name": "stderr",
     "output_type": "stream",
     "text": [
      "  1%|          | 1/162 [00:39<1:47:16, 39.98s/it]\n"
     ]
    },
    {
     "name": "stdout",
     "output_type": "stream",
     "text": [
      "Done creating qa pairs for file CELEX_02013L0036-20220101_DE_TXT.json. Written to json file.\n",
      "creating q_and_a for file CELEX_02013R0575-20230628_DE_TXT.json\n"
     ]
    },
    {
     "name": "stderr",
     "output_type": "stream",
     "text": [
      "  0%|          | 1/746 [00:44<9:16:45, 44.84s/it]\n"
     ]
    },
    {
     "name": "stdout",
     "output_type": "stream",
     "text": [
      "Done creating qa pairs for file CELEX_02013R0575-20230628_DE_TXT.json. Written to json file.\n",
      "creating q_and_a for file KWG.json\n"
     ]
    },
    {
     "name": "stderr",
     "output_type": "stream",
     "text": [
      "  1%|          | 1/196 [00:54<2:57:55, 54.75s/it]"
     ]
    },
    {
     "name": "stdout",
     "output_type": "stream",
     "text": [
      "Done creating qa pairs for file KWG.json. Written to json file.\n"
     ]
    },
    {
     "name": "stderr",
     "output_type": "stream",
     "text": [
      "\n"
     ]
    }
   ],
   "source": [
    "create_qa_pairs(\"pdf_pages/\")"
   ]
  },
  {
   "cell_type": "markdown",
   "metadata": {},
   "source": [
    "## SCRIPT FINISH JUST TESTING CODE HERE"
   ]
  },
  {
   "cell_type": "code",
   "execution_count": null,
   "metadata": {},
   "outputs": [],
   "source": [
    "def qa_pairs_to_json(q_and_a: str):\n",
    "    q_and_a = q_and_a.split(\"\\n\")\n",
    "    q_and_a = [x for x in q_and_a if x != '']\n",
    "    if len(q_and_a) == 2:    \n",
    "        qa_dict = {}\n",
    "        qa_dict[\"question\"] = q_and_a[0].replace('Frage: ', '', 1)\n",
    "        qa_dict[\"answer\"] = q_and_a[1].replace('Antwort: ', '', 1)\n",
    "    else:\n",
    "        print(\"Error: Could not split q_and_a into q and a.\")\n",
    "        return None\n",
    "    return qa_dict"
   ]
  },
  {
   "cell_type": "code",
   "execution_count": null,
   "metadata": {},
   "outputs": [],
   "source": [
    "model_answer = \"\"\"\n",
    "Frage: Was ist das deutsche Bankenrecht?\n",
    "Antwort: DAS HALT.\n",
    "\"\"\"\n",
    "\n",
    "model_answer2 = \"\"\"\n",
    "Frage: UND DAS NÖCHSTE?\n",
    "Antwort: NOCHMAL\n",
    "\"\"\"\n",
    "\n",
    "qa_df = pd.DataFrame(columns=[\"question\", \"answer\"])\n",
    "qa_pairs_json = [qa_pairs_to_json(model_answer)]\n",
    "df = pd.DataFrame(qa_pairs_json)\n",
    "qa_df = pd.concat([qa_df, df], ignore_index=True)\n",
    "\n",
    "\n",
    "qa_pairs_json = [qa_pairs_to_json(model_answer2)]\n",
    "df = pd.DataFrame(qa_pairs_json)\n",
    "qa_df = pd.concat([qa_df, df], ignore_index=True)\n",
    "\n",
    "qa_df.head()"
   ]
  },
  {
   "cell_type": "code",
   "execution_count": null,
   "metadata": {},
   "outputs": [],
   "source": [
    "def split_long_split(split: str):\n",
    "    split_list = []\n",
    "    num_chars_max = 5000\n",
    "    while True:\n",
    "        if len(split) > num_chars_max:\n",
    "            split_list.append(split[:num_chars_max])\n",
    "        else:\n",
    "            split_list.append(split)\n",
    "            break\n",
    "        split = split[num_chars_max:]\n",
    "    return split_list"
   ]
  },
  {
   "cell_type": "code",
   "execution_count": 130,
   "metadata": {},
   "outputs": [],
   "source": [
    "df = None # pd.DataFrame(columns=[\"question\", \"answer\"])\n",
    "\n",
    "qa_df = pd.DataFrame(columns=[\"question\", \"answer\"])\n",
    "\n",
    "qa_df = pd.concat([qa_df, df], ignore_index=True)"
   ]
  },
  {
   "cell_type": "code",
   "execution_count": null,
   "metadata": {},
   "outputs": [],
   "source": [
    "l1 = [\"a\", \"b\", \"c\", \"d\", \"e\", \"f\", \"g\", \"h\", \"i\", \"j\"]\n",
    "l2 = [\"k\", \"l\", \"m\", \"n\", \"o\", \"p\", \"q\", \"r\", \"s\", \"t\"]\n",
    "l3 = [\"u\", \"v\", \"w\", \"x\", \"y\", \"z\"]\n",
    "l1 += l2\n",
    "l1 += l3\n",
    "print(l1)"
   ]
  },
  {
   "cell_type": "code",
   "execution_count": 99,
   "metadata": {},
   "outputs": [
    {
     "data": {
      "image/png": "[encoded data removed]",
      "text/plain": [
       "<Figure size 640x480 with 1 Axes>"
      ]
     },
     "metadata": {},
     "output_type": "display_data"
    },
    {
     "name": "stdout",
     "output_type": "stream",
     "text": [
      "1349\n",
      "<class 'list'>\n",
      "1\n"
     ]
    }
   ],
   "source": [
    "# df = pd.read_json(SPLITS_PATH + \"article_regex_splitter/CELEX_02013L0036-20220101_DE_TXT.json\")\n",
    "df = pd.read_json(SPLITS_PATH + \"article_regex_splitter/CELEX_02013R0575-20230628_DE_TXT.json\")\n",
    "len(df['splits'])\n",
    "\n",
    "# bar chart for length of each split, splits on x-axis, length on y-axis\n",
    "import matplotlib.pyplot as plt\n",
    "splits = df['splits']\n",
    "split_lengths = [len(split) for split in splits]\n",
    "plt.bar(np.arange(len(split_lengths)), split_lengths)\n",
    "plt.show()\n",
    "\n",
    "# get longest split\n",
    "longest_split = df['splits'][0]\n",
    "# longest_split = max(df['splits'], key=len)\n",
    "print(len(longest_split))\n",
    "\n",
    "# function to split a split into multiple splits if length > 5000 characters\n",
    "def split_long_split(split: str):\n",
    "    split_list = []\n",
    "    while True:\n",
    "        if len(split) > 5000:\n",
    "            split_list.append(split[:5000])\n",
    "        else:\n",
    "            split_list.append(split)\n",
    "            break\n",
    "        split = split[5000:]\n",
    "    return split_list\n",
    "\n",
    "list_ = split_long_split(longest_split)\n",
    "print(type(list_))\n",
    "print(len(list_))"
   ]
  },
  {
   "cell_type": "code",
   "execution_count": 153,
   "metadata": {},
   "outputs": [
    {
     "ename": "TypeError",
     "evalue": "string indices must be integers",
     "output_type": "error",
     "traceback": [
      "\u001b[1;31m---------------------------------------------------------------------------\u001b[0m",
      "\u001b[1;31mTypeError\u001b[0m                                 Traceback (most recent call last)",
      "Cell \u001b[1;32mIn[153], line 34\u001b[0m\n\u001b[0;32m      1\u001b[0m passage \u001b[38;5;241m=\u001b[39m \u001b[38;5;124m\"\"\"\u001b[39m\n\u001b[0;32m      2\u001b[0m \u001b[38;5;124mArtikel 513  \u001b[39m\n\u001b[0;32m      3\u001b[0m \u001b[38;5;124mVorschriften der Makroaufsicht  \u001b[39m\n\u001b[1;32m   (...)\u001b[0m\n\u001b[0;32m     31\u001b[0m \u001b[38;5;124mstrumente sind;  \u001b[39m\n\u001b[0;32m     32\u001b[0m \u001b[38;5;124m\"\"\"\u001b[39m\n\u001b[1;32m---> 34\u001b[0m response \u001b[38;5;241m=\u001b[39m \u001b[43mdo_qa_call\u001b[49m\u001b[43m(\u001b[49m\u001b[43mpassage\u001b[49m\u001b[43m)\u001b[49m\n\u001b[0;32m     36\u001b[0m response\n",
      "Cell \u001b[1;32mIn[152], line 42\u001b[0m, in \u001b[0;36mdo_qa_call\u001b[1;34m(passage)\u001b[0m\n\u001b[0;32m     40\u001b[0m embeddings \u001b[38;5;241m=\u001b[39m []\n\u001b[0;32m     41\u001b[0m \u001b[38;5;28;01mfor\u001b[39;00m response \u001b[38;5;129;01min\u001b[39;00m iterator:\n\u001b[1;32m---> 42\u001b[0m     qa_pairs \u001b[38;5;241m+\u001b[39m\u001b[38;5;241m=\u001b[39m \u001b[43mresponse\u001b[49m\u001b[43m[\u001b[49m\u001b[38;5;124;43m\"\u001b[39;49m\u001b[38;5;124;43mtext\u001b[39;49m\u001b[38;5;124;43m\"\u001b[39;49m\u001b[43m]\u001b[49m\n\u001b[0;32m     43\u001b[0m     embeddings\u001b[38;5;241m.\u001b[39mappend(response[\u001b[38;5;124m\"\u001b[39m\u001b[38;5;124membeddings\u001b[39m\u001b[38;5;124m\"\u001b[39m])\n\u001b[0;32m     44\u001b[0m \u001b[38;5;28;01mreturn\u001b[39;00m qa_pairs, embeddings\n",
      "\u001b[1;31mTypeError\u001b[0m: string indices must be integers"
     ]
    }
   ],
   "source": [
    "passage = \"\"\"\n",
    "Artikel 513  \n",
    "Vorschriften der Makroaufsicht  \n",
    "(1) Die Kommission überprüft nach Konsultation des ESRB und der  \n",
    "EBA bis zum 30. Juni 2022 und danach alle fünf Jahre, ob die Vo r­\n",
    "schriften dieser Verordnung und der Richtlinie 2013/36/EU zur M akro­\n",
    "aufsicht ausreichen, um Systemrisiken in bestimmten Wirtschafts zwei­\n",
    "gen, Regionen und Mitgliedstaaten einzudämmen; dabei bewertet s ie \n",
    "unter anderem,  \n",
    "a) ob die geltenden Instrumente der Makroaufsicht dieser Verord nung \n",
    "und der Richtlinie 2013/36/EU wirksam, effizient und transparen t \n",
    "sind;  \n",
    "b) ob die Abdeckung der verschiedenen in dieser Verordnung und der \n",
    "Richtlinie 2013/36/EU zur Bewältigung ähnlicher Risiken vorgese ­\n",
    "henen Instrumente der Makroaufsicht und der eventuelle Grad der  \n",
    "Überschneidung zwischen diesen Instrumenten angemessen sind; er ­\n",
    "forderlichenfalls schlägt sie neue Vorschriften der Makroaufsic ht vor;  \n",
    "c) welche Wechselwirkungen es zwischen international vereinbart en \n",
    "Standards für systemrelevante Institute und dieser Verordnung u nd \n",
    "der Richtlinie 2013/36/EU gibt; erforderlichenfalls schlägt sie  neue \n",
    "Vorschriften vor, in denen diese international vereinbarten Sta ndards \n",
    "berücksichtigt werden;  \n",
    "d) ob andere Arten von Instrumenten wie schuldnerbezogene Instr u­\n",
    "mente unter die in dieser Verordnung und der Richtlinie 2013/36 /EU \n",
    "vorgesehenen Instrumente der Makroaufsicht aufgenommen werden \n",
    "sollten, um die kapitalbezogenen Instrumente zu ergänzen und ei ne \n",
    "harmonisierte Anwendung der Instrumente im Binnenmarkt zu er­\n",
    "möglichen, unter Berücksichtigung der Frage, ob harmonisierte D e­\n",
    "finitionen dieser Instrumente und die Meldung entsprechender Da ten \n",
    "auf Unionsebene eine Voraussetzung für die Einführung solcher I n­\n",
    "strumente sind;  \n",
    "\"\"\"\n",
    "\n",
    "response = do_qa_call(passage)\n",
    "\n",
    "response"
   ]
  }
 ],
 "metadata": {
  "kernelspec": {
   "display_name": "env",
   "language": "python",
   "name": "python3"
  },
  "language_info": {
   "codemirror_mode": {
    "name": "ipython",
    "version": 3
   },
   "file_extension": ".py",
   "mimetype": "text/x-python",
   "name": "python",
   "nbconvert_exporter": "python",
   "pygments_lexer": "ipython3",
   "version": "3.10.11"
  }
 },
 "nbformat": 4,
 "nbformat_minor": 2
}
